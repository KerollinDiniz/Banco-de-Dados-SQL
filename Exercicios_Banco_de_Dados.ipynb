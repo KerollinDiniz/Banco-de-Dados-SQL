{
  "nbformat": 4,
  "nbformat_minor": 0,
  "metadata": {
    "colab": {
      "provenance": [],
      "authorship_tag": "ABX9TyMBN802ewCQ5WYZ0EvJ+eJx",
      "include_colab_link": true
    },
    "kernelspec": {
      "name": "python3",
      "display_name": "Python 3"
    },
    "language_info": {
      "name": "python"
    }
  },
  "cells": [
    {
      "cell_type": "markdown",
      "metadata": {
        "id": "view-in-github",
        "colab_type": "text"
      },
      "source": [
        "<a href=\"https://colab.research.google.com/github/KerollinDiniz/Banco-de-Dados-SQL/blob/main/Exercicios_Banco_de_Dados.ipynb\" target=\"_parent\"><img src=\"https://colab.research.google.com/assets/colab-badge.svg\" alt=\"Open In Colab\"/></a>"
      ]
    },
    {
      "cell_type": "code",
      "execution_count": 15,
      "metadata": {
        "colab": {
          "base_uri": "https://localhost:8080/"
        },
        "id": "MOZ_N1el8vBK",
        "outputId": "984b1b10-ad48-4591-99a5-ba8fd30d6c2f"
      },
      "outputs": [
        {
          "output_type": "stream",
          "name": "stdout",
          "text": [
            "The sql extension is already loaded. To reload it, use:\n",
            "  %reload_ext sql\n"
          ]
        }
      ],
      "source": [
        "%load_ext sql\n",
        "#import sqlite3"
      ]
    },
    {
      "cell_type": "code",
      "source": [
        "%%sql\n",
        "sqlite:///banco.db"
      ],
      "metadata": {
        "collapsed": true,
        "id": "O4FIyK439sBs"
      },
      "execution_count": 19,
      "outputs": []
    },
    {
      "cell_type": "markdown",
      "source": [
        "1. Crie uma tabela chamada \"alunos\" com os seguintes campos: id (inteiro), nome (texto), idade (inteiro) e curso (texto)."
      ],
      "metadata": {
        "id": "dz4k-lHM-DlK"
      }
    },
    {
      "cell_type": "code",
      "source": [
        "#conexao = sqlite3.connect('banco')\n",
        "#cursor = conexao.cursor()"
      ],
      "metadata": {
        "id": "t-9mfTmm-E1B"
      },
      "execution_count": 17,
      "outputs": []
    },
    {
      "cell_type": "code",
      "source": [
        "#cursor.execute('CREATE TABLE alunos(id INT, nome VARCHAR, idade INT, curso VARCHAR)')"
      ],
      "metadata": {
        "id": "L18bqL2p_QNW"
      },
      "execution_count": 18,
      "outputs": []
    },
    {
      "cell_type": "code",
      "source": [
        "%%sql\n",
        "create table alunos(id INT, nome VARCHAR(100), idade INT, curso VARCHAR(50));"
      ],
      "metadata": {
        "colab": {
          "base_uri": "https://localhost:8080/"
        },
        "id": "Hf1kW-TXAhmn",
        "outputId": "55b4f8e4-9788-427a-fab9-0ad515fc2dc6"
      },
      "execution_count": 21,
      "outputs": [
        {
          "output_type": "stream",
          "name": "stdout",
          "text": [
            " * sqlite:///banco.db\n",
            "(sqlite3.OperationalError) table alunos already exists\n",
            "[SQL: create table alunos(id INT, nome VARCHAR(100), idade INT, curso VARCHAR(50));]\n",
            "(Background on this error at: https://sqlalche.me/e/20/e3q8)\n"
          ]
        }
      ]
    },
    {
      "cell_type": "markdown",
      "source": [
        "2. Insira pelo menos 5 registros de alunos na tabela que você criou no exercício anterior."
      ],
      "metadata": {
        "id": "1m8zm3ZcBLC7"
      }
    },
    {
      "cell_type": "code",
      "source": [
        "%%sql\n",
        "\n",
        "insert into alunos values(1, 'Alan da Silva', 21, 'Medicina');\n",
        "insert into alunos values(2, 'Joana de Castro', 19, 'História');\n",
        "insert into alunos values(3, 'Eduardo Pio', 29, 'Direito');\n",
        "insert into alunos values(4, 'Mariana Andrade', 32, 'Engenharia Civil');\n",
        "insert into alunos values(1, 'Guilherme Nogueira', 26, 'Marketing');\n",
        "\n",
        "select * from alunos;"
      ],
      "metadata": {
        "colab": {
          "base_uri": "https://localhost:8080/",
          "height": 269
        },
        "id": "HRJlTAEuBNpi",
        "outputId": "4eaa7f8b-8b7d-497f-e34c-1306ebf5989b"
      },
      "execution_count": 33,
      "outputs": [
        {
          "output_type": "stream",
          "name": "stdout",
          "text": [
            " * sqlite:///banco.db\n",
            "1 rows affected.\n",
            "1 rows affected.\n",
            "1 rows affected.\n",
            "1 rows affected.\n",
            "1 rows affected.\n",
            "Done.\n"
          ]
        },
        {
          "output_type": "execute_result",
          "data": {
            "text/plain": [
              "[(1, 'Alan da Silva', 21, 'Medicina'),\n",
              " (2, 'Joana de Castro', 19, 'História'),\n",
              " (3, 'Eduardo Pio', 29, 'Direito'),\n",
              " (4, 'Mariana Andrade', 32, 'Engenharia Civil'),\n",
              " (1, 'Guilherme Nogueira', 26, 'Marketing')]"
            ],
            "text/html": [
              "<table>\n",
              "    <thead>\n",
              "        <tr>\n",
              "            <th>id</th>\n",
              "            <th>nome</th>\n",
              "            <th>idade</th>\n",
              "            <th>curso</th>\n",
              "        </tr>\n",
              "    </thead>\n",
              "    <tbody>\n",
              "        <tr>\n",
              "            <td>1</td>\n",
              "            <td>Alan da Silva</td>\n",
              "            <td>21</td>\n",
              "            <td>Medicina</td>\n",
              "        </tr>\n",
              "        <tr>\n",
              "            <td>2</td>\n",
              "            <td>Joana de Castro</td>\n",
              "            <td>19</td>\n",
              "            <td>História</td>\n",
              "        </tr>\n",
              "        <tr>\n",
              "            <td>3</td>\n",
              "            <td>Eduardo Pio</td>\n",
              "            <td>29</td>\n",
              "            <td>Direito</td>\n",
              "        </tr>\n",
              "        <tr>\n",
              "            <td>4</td>\n",
              "            <td>Mariana Andrade</td>\n",
              "            <td>32</td>\n",
              "            <td>Engenharia Civil</td>\n",
              "        </tr>\n",
              "        <tr>\n",
              "            <td>1</td>\n",
              "            <td>Guilherme Nogueira</td>\n",
              "            <td>26</td>\n",
              "            <td>Marketing</td>\n",
              "        </tr>\n",
              "    </tbody>\n",
              "</table>"
            ]
          },
          "metadata": {},
          "execution_count": 33
        }
      ]
    },
    {
      "cell_type": "markdown",
      "source": [
        "3. Consultas Básicas Escreva consultas SQL para realizar as seguintes tarefas:\n",
        "a) Selecionar todos os registros da tabela \"alunos\".\n",
        "b) Selecionar o nome e a idade dos alunos com mais de 20 anos.\n",
        "c) Selecionar os alunos do curso de \"Engenharia\" em ordem alfabética. d) Contar o número total de alunos na tabela"
      ],
      "metadata": {
        "id": "1Ta5iS2yFeho"
      }
    },
    {
      "cell_type": "code",
      "source": [
        "%sql select * from alunos;\n"
      ],
      "metadata": {
        "colab": {
          "base_uri": "https://localhost:8080/",
          "height": 182
        },
        "id": "fH7RAjG7FgsL",
        "outputId": "7870ad1d-6a47-4b5a-8538-fe5b59e01d36"
      },
      "execution_count": 35,
      "outputs": [
        {
          "output_type": "stream",
          "name": "stdout",
          "text": [
            " * sqlite:///banco.db\n",
            "Done.\n"
          ]
        },
        {
          "output_type": "execute_result",
          "data": {
            "text/plain": [
              "[(1, 'Alan da Silva', 21, 'Medicina'),\n",
              " (2, 'Joana de Castro', 19, 'História'),\n",
              " (3, 'Eduardo Pio', 29, 'Direito'),\n",
              " (4, 'Mariana Andrade', 32, 'Engenharia Civil'),\n",
              " (1, 'Guilherme Nogueira', 26, 'Marketing')]"
            ],
            "text/html": [
              "<table>\n",
              "    <thead>\n",
              "        <tr>\n",
              "            <th>id</th>\n",
              "            <th>nome</th>\n",
              "            <th>idade</th>\n",
              "            <th>curso</th>\n",
              "        </tr>\n",
              "    </thead>\n",
              "    <tbody>\n",
              "        <tr>\n",
              "            <td>1</td>\n",
              "            <td>Alan da Silva</td>\n",
              "            <td>21</td>\n",
              "            <td>Medicina</td>\n",
              "        </tr>\n",
              "        <tr>\n",
              "            <td>2</td>\n",
              "            <td>Joana de Castro</td>\n",
              "            <td>19</td>\n",
              "            <td>História</td>\n",
              "        </tr>\n",
              "        <tr>\n",
              "            <td>3</td>\n",
              "            <td>Eduardo Pio</td>\n",
              "            <td>29</td>\n",
              "            <td>Direito</td>\n",
              "        </tr>\n",
              "        <tr>\n",
              "            <td>4</td>\n",
              "            <td>Mariana Andrade</td>\n",
              "            <td>32</td>\n",
              "            <td>Engenharia Civil</td>\n",
              "        </tr>\n",
              "        <tr>\n",
              "            <td>1</td>\n",
              "            <td>Guilherme Nogueira</td>\n",
              "            <td>26</td>\n",
              "            <td>Marketing</td>\n",
              "        </tr>\n",
              "    </tbody>\n",
              "</table>"
            ]
          },
          "metadata": {},
          "execution_count": 35
        }
      ]
    },
    {
      "cell_type": "code",
      "source": [
        "%sql select  nome, idade from alunos where idade > 20;"
      ],
      "metadata": {
        "colab": {
          "base_uri": "https://localhost:8080/",
          "height": 161
        },
        "id": "5y2bkkbbIIcs",
        "outputId": "d9bf0560-8660-4801-804f-874673310af3"
      },
      "execution_count": 36,
      "outputs": [
        {
          "output_type": "stream",
          "name": "stdout",
          "text": [
            " * sqlite:///banco.db\n",
            "Done.\n"
          ]
        },
        {
          "output_type": "execute_result",
          "data": {
            "text/plain": [
              "[('Alan da Silva', 21),\n",
              " ('Eduardo Pio', 29),\n",
              " ('Mariana Andrade', 32),\n",
              " ('Guilherme Nogueira', 26)]"
            ],
            "text/html": [
              "<table>\n",
              "    <thead>\n",
              "        <tr>\n",
              "            <th>nome</th>\n",
              "            <th>idade</th>\n",
              "        </tr>\n",
              "    </thead>\n",
              "    <tbody>\n",
              "        <tr>\n",
              "            <td>Alan da Silva</td>\n",
              "            <td>21</td>\n",
              "        </tr>\n",
              "        <tr>\n",
              "            <td>Eduardo Pio</td>\n",
              "            <td>29</td>\n",
              "        </tr>\n",
              "        <tr>\n",
              "            <td>Mariana Andrade</td>\n",
              "            <td>32</td>\n",
              "        </tr>\n",
              "        <tr>\n",
              "            <td>Guilherme Nogueira</td>\n",
              "            <td>26</td>\n",
              "        </tr>\n",
              "    </tbody>\n",
              "</table>"
            ]
          },
          "metadata": {},
          "execution_count": 36
        }
      ]
    },
    {
      "cell_type": "code",
      "source": [
        "%sql select * from alunos where curso like '%Engenharia%' order by nome asc"
      ],
      "metadata": {
        "colab": {
          "base_uri": "https://localhost:8080/",
          "height": 96
        },
        "id": "hb7M4jlgIStH",
        "outputId": "f39cc33c-08b9-4407-cccb-acf2becdb459"
      },
      "execution_count": 38,
      "outputs": [
        {
          "output_type": "stream",
          "name": "stdout",
          "text": [
            " * sqlite:///banco.db\n",
            "Done.\n"
          ]
        },
        {
          "output_type": "execute_result",
          "data": {
            "text/plain": [
              "[(4, 'Mariana Andrade', 32, 'Engenharia Civil')]"
            ],
            "text/html": [
              "<table>\n",
              "    <thead>\n",
              "        <tr>\n",
              "            <th>id</th>\n",
              "            <th>nome</th>\n",
              "            <th>idade</th>\n",
              "            <th>curso</th>\n",
              "        </tr>\n",
              "    </thead>\n",
              "    <tbody>\n",
              "        <tr>\n",
              "            <td>4</td>\n",
              "            <td>Mariana Andrade</td>\n",
              "            <td>32</td>\n",
              "            <td>Engenharia Civil</td>\n",
              "        </tr>\n",
              "    </tbody>\n",
              "</table>"
            ]
          },
          "metadata": {},
          "execution_count": 38
        }
      ]
    },
    {
      "cell_type": "code",
      "source": [
        "%sql select count (*) from alunos;"
      ],
      "metadata": {
        "colab": {
          "base_uri": "https://localhost:8080/",
          "height": 96
        },
        "id": "jPqpUE7AJH9e",
        "outputId": "3a0e5a17-2cbb-4fae-cf70-b60c07964cc9"
      },
      "execution_count": 39,
      "outputs": [
        {
          "output_type": "stream",
          "name": "stdout",
          "text": [
            " * sqlite:///banco.db\n",
            "Done.\n"
          ]
        },
        {
          "output_type": "execute_result",
          "data": {
            "text/plain": [
              "[(5,)]"
            ],
            "text/html": [
              "<table>\n",
              "    <thead>\n",
              "        <tr>\n",
              "            <th>count (*)</th>\n",
              "        </tr>\n",
              "    </thead>\n",
              "    <tbody>\n",
              "        <tr>\n",
              "            <td>5</td>\n",
              "        </tr>\n",
              "    </tbody>\n",
              "</table>"
            ]
          },
          "metadata": {},
          "execution_count": 39
        }
      ]
    },
    {
      "cell_type": "markdown",
      "source": [
        "4. Atualização e Remoção\n",
        "a) Atualize a idade de um aluno específico na tabela.\n",
        "b) Remova um aluno pelo seu ID."
      ],
      "metadata": {
        "id": "cXEOcE38JkCm"
      }
    },
    {
      "cell_type": "code",
      "source": [
        "%%sql update alunos set idade=42 where nome='Mariana Andrade';\n"
      ],
      "metadata": {
        "colab": {
          "base_uri": "https://localhost:8080/"
        },
        "id": "y3yin5nZJi72",
        "outputId": "8c092f87-2e6a-46c2-d1a5-cc73be062a19"
      },
      "execution_count": 43,
      "outputs": [
        {
          "output_type": "stream",
          "name": "stdout",
          "text": [
            " * sqlite:///banco.db\n",
            "1 rows affected.\n"
          ]
        },
        {
          "output_type": "execute_result",
          "data": {
            "text/plain": [
              "[]"
            ]
          },
          "metadata": {},
          "execution_count": 43
        }
      ]
    },
    {
      "cell_type": "code",
      "source": [
        "%sql select * from alunos;"
      ],
      "metadata": {
        "colab": {
          "base_uri": "https://localhost:8080/",
          "height": 182
        },
        "id": "yTYAATu-KdCr",
        "outputId": "096f7781-ce8a-4c53-d1dc-da235dbdcb7e"
      },
      "execution_count": 42,
      "outputs": [
        {
          "output_type": "stream",
          "name": "stdout",
          "text": [
            " * sqlite:///banco.db\n",
            "Done.\n"
          ]
        },
        {
          "output_type": "execute_result",
          "data": {
            "text/plain": [
              "[(1, 'Alan da Silva', 21, 'Medicina'),\n",
              " (2, 'Joana de Castro', 19, 'História'),\n",
              " (3, 'Eduardo Pio', 29, 'Direito'),\n",
              " (4, 'Mariana Andrade', 42, 'Engenharia Civil'),\n",
              " (1, 'Guilherme Nogueira', 26, 'Marketing')]"
            ],
            "text/html": [
              "<table>\n",
              "    <thead>\n",
              "        <tr>\n",
              "            <th>id</th>\n",
              "            <th>nome</th>\n",
              "            <th>idade</th>\n",
              "            <th>curso</th>\n",
              "        </tr>\n",
              "    </thead>\n",
              "    <tbody>\n",
              "        <tr>\n",
              "            <td>1</td>\n",
              "            <td>Alan da Silva</td>\n",
              "            <td>21</td>\n",
              "            <td>Medicina</td>\n",
              "        </tr>\n",
              "        <tr>\n",
              "            <td>2</td>\n",
              "            <td>Joana de Castro</td>\n",
              "            <td>19</td>\n",
              "            <td>História</td>\n",
              "        </tr>\n",
              "        <tr>\n",
              "            <td>3</td>\n",
              "            <td>Eduardo Pio</td>\n",
              "            <td>29</td>\n",
              "            <td>Direito</td>\n",
              "        </tr>\n",
              "        <tr>\n",
              "            <td>4</td>\n",
              "            <td>Mariana Andrade</td>\n",
              "            <td>42</td>\n",
              "            <td>Engenharia Civil</td>\n",
              "        </tr>\n",
              "        <tr>\n",
              "            <td>1</td>\n",
              "            <td>Guilherme Nogueira</td>\n",
              "            <td>26</td>\n",
              "            <td>Marketing</td>\n",
              "        </tr>\n",
              "    </tbody>\n",
              "</table>"
            ]
          },
          "metadata": {},
          "execution_count": 42
        }
      ]
    },
    {
      "cell_type": "code",
      "source": [
        "%%sql delete from alunos where id=2"
      ],
      "metadata": {
        "colab": {
          "base_uri": "https://localhost:8080/"
        },
        "id": "HoivWSEzKf6Z",
        "outputId": "eea71c93-9450-43f9-b085-940d4219e985"
      },
      "execution_count": 44,
      "outputs": [
        {
          "output_type": "stream",
          "name": "stdout",
          "text": [
            " * sqlite:///banco.db\n",
            "1 rows affected.\n"
          ]
        },
        {
          "output_type": "execute_result",
          "data": {
            "text/plain": [
              "[]"
            ]
          },
          "metadata": {},
          "execution_count": 44
        }
      ]
    },
    {
      "cell_type": "code",
      "source": [
        "%sql select * from alunos;"
      ],
      "metadata": {
        "colab": {
          "base_uri": "https://localhost:8080/",
          "height": 161
        },
        "id": "yKxBlO7rK5Dm",
        "outputId": "ccf9da33-8120-46f8-d0af-c5175f799f2c"
      },
      "execution_count": 45,
      "outputs": [
        {
          "output_type": "stream",
          "name": "stdout",
          "text": [
            " * sqlite:///banco.db\n",
            "Done.\n"
          ]
        },
        {
          "output_type": "execute_result",
          "data": {
            "text/plain": [
              "[(1, 'Alan da Silva', 21, 'Medicina'),\n",
              " (3, 'Eduardo Pio', 29, 'Direito'),\n",
              " (4, 'Mariana Andrade', 42, 'Engenharia Civil'),\n",
              " (1, 'Guilherme Nogueira', 26, 'Marketing')]"
            ],
            "text/html": [
              "<table>\n",
              "    <thead>\n",
              "        <tr>\n",
              "            <th>id</th>\n",
              "            <th>nome</th>\n",
              "            <th>idade</th>\n",
              "            <th>curso</th>\n",
              "        </tr>\n",
              "    </thead>\n",
              "    <tbody>\n",
              "        <tr>\n",
              "            <td>1</td>\n",
              "            <td>Alan da Silva</td>\n",
              "            <td>21</td>\n",
              "            <td>Medicina</td>\n",
              "        </tr>\n",
              "        <tr>\n",
              "            <td>3</td>\n",
              "            <td>Eduardo Pio</td>\n",
              "            <td>29</td>\n",
              "            <td>Direito</td>\n",
              "        </tr>\n",
              "        <tr>\n",
              "            <td>4</td>\n",
              "            <td>Mariana Andrade</td>\n",
              "            <td>42</td>\n",
              "            <td>Engenharia Civil</td>\n",
              "        </tr>\n",
              "        <tr>\n",
              "            <td>1</td>\n",
              "            <td>Guilherme Nogueira</td>\n",
              "            <td>26</td>\n",
              "            <td>Marketing</td>\n",
              "        </tr>\n",
              "    </tbody>\n",
              "</table>"
            ]
          },
          "metadata": {},
          "execution_count": 45
        }
      ]
    },
    {
      "cell_type": "markdown",
      "source": [
        "5. Criar uma Tabela e Inserir Dados Crie uma tabela chamada \"clientes\" com os campos: id (chave primária), nome (texto), idade (inteiro) e saldo (float). Insira alguns registros de clientes na tabela."
      ],
      "metadata": {
        "id": "_frJUyuGLC9s"
      }
    },
    {
      "cell_type": "code",
      "source": [
        "%%sql\n",
        "create table clientes(id INTEGER PRIMARY KEY, nome VARCHAR(100), idade INT, saldo FLOAT);"
      ],
      "metadata": {
        "colab": {
          "base_uri": "https://localhost:8080/"
        },
        "id": "G1JZnG1yLB9x",
        "outputId": "ac2c3afd-e7e0-4753-d18f-ac21e76f6a62"
      },
      "execution_count": 49,
      "outputs": [
        {
          "output_type": "stream",
          "name": "stdout",
          "text": [
            " * sqlite:///banco.db\n",
            "(sqlite3.OperationalError) table clientes already exists\n",
            "[SQL: create table clientes(id INTEGER PRIMARY KEY, nome VARCHAR(100), idade INT, saldo FLOAT);]\n",
            "(Background on this error at: https://sqlalche.me/e/20/e3q8)\n"
          ]
        }
      ]
    },
    {
      "cell_type": "code",
      "source": [
        "%sql insert into  clientes values (1, 'Fabiana Oliveira', 46, 3000), (2, 'Isis Bittencourt', 17, 250), (3, 'Arthur Diniz', 29, 412.87), (4, 'Clara Silveira', 63, 856.11), (5, 'Rafael Nascimento', 55, 1054.47);\n",
        "\n",
        "\n",
        "\n"
      ],
      "metadata": {
        "colab": {
          "base_uri": "https://localhost:8080/"
        },
        "id": "Uhmh8sylLEZC",
        "outputId": "88251bc8-e68c-42a3-b7d8-e9f980c497c8"
      },
      "execution_count": 55,
      "outputs": [
        {
          "output_type": "stream",
          "name": "stdout",
          "text": [
            " * sqlite:///banco.db\n",
            "5 rows affected.\n"
          ]
        },
        {
          "output_type": "execute_result",
          "data": {
            "text/plain": [
              "[]"
            ]
          },
          "metadata": {},
          "execution_count": 55
        }
      ]
    },
    {
      "cell_type": "code",
      "source": [
        "%sql select * from clientes;"
      ],
      "metadata": {
        "colab": {
          "base_uri": "https://localhost:8080/",
          "height": 182
        },
        "id": "UGm8lPpkPcbp",
        "outputId": "fd88766c-5ccd-4df6-9db8-95f39f18dd95"
      },
      "execution_count": 56,
      "outputs": [
        {
          "output_type": "stream",
          "name": "stdout",
          "text": [
            " * sqlite:///banco.db\n",
            "Done.\n"
          ]
        },
        {
          "output_type": "execute_result",
          "data": {
            "text/plain": [
              "[(1, 'Fabiana Oliveira', 46, 3000.0),\n",
              " (2, 'Isis Bittencourt', 17, 250.0),\n",
              " (3, 'Arthur Diniz', 29, 412.87),\n",
              " (4, 'Clara Silveira', 63, 856.11),\n",
              " (5, 'Rafael Nascimento', 55, 1054.47)]"
            ],
            "text/html": [
              "<table>\n",
              "    <thead>\n",
              "        <tr>\n",
              "            <th>id</th>\n",
              "            <th>nome</th>\n",
              "            <th>idade</th>\n",
              "            <th>saldo</th>\n",
              "        </tr>\n",
              "    </thead>\n",
              "    <tbody>\n",
              "        <tr>\n",
              "            <td>1</td>\n",
              "            <td>Fabiana Oliveira</td>\n",
              "            <td>46</td>\n",
              "            <td>3000.0</td>\n",
              "        </tr>\n",
              "        <tr>\n",
              "            <td>2</td>\n",
              "            <td>Isis Bittencourt</td>\n",
              "            <td>17</td>\n",
              "            <td>250.0</td>\n",
              "        </tr>\n",
              "        <tr>\n",
              "            <td>3</td>\n",
              "            <td>Arthur Diniz</td>\n",
              "            <td>29</td>\n",
              "            <td>412.87</td>\n",
              "        </tr>\n",
              "        <tr>\n",
              "            <td>4</td>\n",
              "            <td>Clara Silveira</td>\n",
              "            <td>63</td>\n",
              "            <td>856.11</td>\n",
              "        </tr>\n",
              "        <tr>\n",
              "            <td>5</td>\n",
              "            <td>Rafael Nascimento</td>\n",
              "            <td>55</td>\n",
              "            <td>1054.47</td>\n",
              "        </tr>\n",
              "    </tbody>\n",
              "</table>"
            ]
          },
          "metadata": {},
          "execution_count": 56
        }
      ]
    },
    {
      "cell_type": "markdown",
      "source": [
        "6. Consultas e Funções Agregadas Escreva consultas SQL para realizar as seguintes tarefas: a) Selecione o nome e a idade dos clientes com idade superior a 30 anos.b) Calcule o saldo médio dos clientes. c) Encontre o cliente com o saldo máximo. d) Conte quantos clientes têm saldo acima de 1000."
      ],
      "metadata": {
        "id": "sDhQWUYEPl-k"
      }
    },
    {
      "cell_type": "code",
      "source": [
        "%sql select nome, idade from clientes where idade > 30;"
      ],
      "metadata": {
        "colab": {
          "base_uri": "https://localhost:8080/",
          "height": 139
        },
        "id": "i6nIH2A6Pnvq",
        "outputId": "8e10f2cd-91ab-47f3-ba71-f2e824be3e94"
      },
      "execution_count": 57,
      "outputs": [
        {
          "output_type": "stream",
          "name": "stdout",
          "text": [
            " * sqlite:///banco.db\n",
            "Done.\n"
          ]
        },
        {
          "output_type": "execute_result",
          "data": {
            "text/plain": [
              "[('Fabiana Oliveira', 46), ('Clara Silveira', 63), ('Rafael Nascimento', 55)]"
            ],
            "text/html": [
              "<table>\n",
              "    <thead>\n",
              "        <tr>\n",
              "            <th>nome</th>\n",
              "            <th>idade</th>\n",
              "        </tr>\n",
              "    </thead>\n",
              "    <tbody>\n",
              "        <tr>\n",
              "            <td>Fabiana Oliveira</td>\n",
              "            <td>46</td>\n",
              "        </tr>\n",
              "        <tr>\n",
              "            <td>Clara Silveira</td>\n",
              "            <td>63</td>\n",
              "        </tr>\n",
              "        <tr>\n",
              "            <td>Rafael Nascimento</td>\n",
              "            <td>55</td>\n",
              "        </tr>\n",
              "    </tbody>\n",
              "</table>"
            ]
          },
          "metadata": {},
          "execution_count": 57
        }
      ]
    },
    {
      "cell_type": "code",
      "source": [
        "%sql select AVG(saldo) as saldo_medio from clientes;"
      ],
      "metadata": {
        "colab": {
          "base_uri": "https://localhost:8080/",
          "height": 96
        },
        "id": "8V01ThC4QV94",
        "outputId": "0079f609-2712-4135-b8d6-ab4a6982757f"
      },
      "execution_count": 61,
      "outputs": [
        {
          "output_type": "stream",
          "name": "stdout",
          "text": [
            " * sqlite:///banco.db\n",
            "Done.\n"
          ]
        },
        {
          "output_type": "execute_result",
          "data": {
            "text/plain": [
              "[(1114.69,)]"
            ],
            "text/html": [
              "<table>\n",
              "    <thead>\n",
              "        <tr>\n",
              "            <th>saldo_medio</th>\n",
              "        </tr>\n",
              "    </thead>\n",
              "    <tbody>\n",
              "        <tr>\n",
              "            <td>1114.69</td>\n",
              "        </tr>\n",
              "    </tbody>\n",
              "</table>"
            ]
          },
          "metadata": {},
          "execution_count": 61
        }
      ]
    },
    {
      "cell_type": "code",
      "source": [
        "%sql select nome, saldo from clientes where saldo = (select MAX(saldo) from clientes);"
      ],
      "metadata": {
        "colab": {
          "base_uri": "https://localhost:8080/",
          "height": 96
        },
        "id": "cmNgFfvzQJfs",
        "outputId": "54814834-1e6b-4cb2-8aa9-4ba2df88cf22"
      },
      "execution_count": 58,
      "outputs": [
        {
          "output_type": "stream",
          "name": "stdout",
          "text": [
            " * sqlite:///banco.db\n",
            "Done.\n"
          ]
        },
        {
          "output_type": "execute_result",
          "data": {
            "text/plain": [
              "[('Fabiana Oliveira', 3000.0)]"
            ],
            "text/html": [
              "<table>\n",
              "    <thead>\n",
              "        <tr>\n",
              "            <th>nome</th>\n",
              "            <th>saldo</th>\n",
              "        </tr>\n",
              "    </thead>\n",
              "    <tbody>\n",
              "        <tr>\n",
              "            <td>Fabiana Oliveira</td>\n",
              "            <td>3000.0</td>\n",
              "        </tr>\n",
              "    </tbody>\n",
              "</table>"
            ]
          },
          "metadata": {},
          "execution_count": 58
        }
      ]
    },
    {
      "cell_type": "code",
      "source": [
        "%sql select count(*) clientes_saldo_maior_1000 from clientes where saldo> 1000;"
      ],
      "metadata": {
        "colab": {
          "base_uri": "https://localhost:8080/",
          "height": 96
        },
        "id": "10s9thBSRECM",
        "outputId": "4cc69cc2-4c75-43d5-fc5e-376c17d10c2f"
      },
      "execution_count": 62,
      "outputs": [
        {
          "output_type": "stream",
          "name": "stdout",
          "text": [
            " * sqlite:///banco.db\n",
            "Done.\n"
          ]
        },
        {
          "output_type": "execute_result",
          "data": {
            "text/plain": [
              "[(2,)]"
            ],
            "text/html": [
              "<table>\n",
              "    <thead>\n",
              "        <tr>\n",
              "            <th>clientes_saldo_maior_1000</th>\n",
              "        </tr>\n",
              "    </thead>\n",
              "    <tbody>\n",
              "        <tr>\n",
              "            <td>2</td>\n",
              "        </tr>\n",
              "    </tbody>\n",
              "</table>"
            ]
          },
          "metadata": {},
          "execution_count": 62
        }
      ]
    },
    {
      "cell_type": "markdown",
      "source": [
        "7. Atualização e Remoção com Condições a) Atualize o saldo de um cliente específico. b) Remova um cliente pelo seu ID."
      ],
      "metadata": {
        "id": "__DCy0wfRivS"
      }
    },
    {
      "cell_type": "code",
      "source": [
        "%%sql\n",
        "update clientes set saldo=1500 where nome='Isis Bittencourt';"
      ],
      "metadata": {
        "colab": {
          "base_uri": "https://localhost:8080/"
        },
        "id": "QuX90aDERkVL",
        "outputId": "003716fa-72de-4597-e013-843c6721e539"
      },
      "execution_count": 72,
      "outputs": [
        {
          "output_type": "stream",
          "name": "stdout",
          "text": [
            " * sqlite:///banco.db\n",
            "1 rows affected.\n"
          ]
        },
        {
          "output_type": "execute_result",
          "data": {
            "text/plain": [
              "[]"
            ]
          },
          "metadata": {},
          "execution_count": 72
        }
      ]
    },
    {
      "cell_type": "code",
      "source": [
        "%sql select * from clientes;"
      ],
      "metadata": {
        "colab": {
          "base_uri": "https://localhost:8080/",
          "height": 182
        },
        "id": "21jlWj59R64Y",
        "outputId": "f879bf47-58bd-4ce7-a40f-113779b9c799"
      },
      "execution_count": 73,
      "outputs": [
        {
          "output_type": "stream",
          "name": "stdout",
          "text": [
            " * sqlite:///banco.db\n",
            "Done.\n"
          ]
        },
        {
          "output_type": "execute_result",
          "data": {
            "text/plain": [
              "[(1, 'Fabiana Oliveira', 46, 3000.0),\n",
              " (2, 'Isis Bittencourt', 17, 1500.0),\n",
              " (3, 'Arthur Diniz', 29, 412.87),\n",
              " (4, 'Clara Silveira', 63, 856.11),\n",
              " (5, 'Rafael Nascimento', 55, 1054.47)]"
            ],
            "text/html": [
              "<table>\n",
              "    <thead>\n",
              "        <tr>\n",
              "            <th>id</th>\n",
              "            <th>nome</th>\n",
              "            <th>idade</th>\n",
              "            <th>saldo</th>\n",
              "        </tr>\n",
              "    </thead>\n",
              "    <tbody>\n",
              "        <tr>\n",
              "            <td>1</td>\n",
              "            <td>Fabiana Oliveira</td>\n",
              "            <td>46</td>\n",
              "            <td>3000.0</td>\n",
              "        </tr>\n",
              "        <tr>\n",
              "            <td>2</td>\n",
              "            <td>Isis Bittencourt</td>\n",
              "            <td>17</td>\n",
              "            <td>1500.0</td>\n",
              "        </tr>\n",
              "        <tr>\n",
              "            <td>3</td>\n",
              "            <td>Arthur Diniz</td>\n",
              "            <td>29</td>\n",
              "            <td>412.87</td>\n",
              "        </tr>\n",
              "        <tr>\n",
              "            <td>4</td>\n",
              "            <td>Clara Silveira</td>\n",
              "            <td>63</td>\n",
              "            <td>856.11</td>\n",
              "        </tr>\n",
              "        <tr>\n",
              "            <td>5</td>\n",
              "            <td>Rafael Nascimento</td>\n",
              "            <td>55</td>\n",
              "            <td>1054.47</td>\n",
              "        </tr>\n",
              "    </tbody>\n",
              "</table>"
            ]
          },
          "metadata": {},
          "execution_count": 73
        }
      ]
    },
    {
      "cell_type": "code",
      "source": [
        "%%sql delete from clientes where id=5"
      ],
      "metadata": {
        "colab": {
          "base_uri": "https://localhost:8080/"
        },
        "id": "v1kfyIH-Swlm",
        "outputId": "8f5160b5-8695-4410-d422-61c16b353b73"
      },
      "execution_count": 76,
      "outputs": [
        {
          "output_type": "stream",
          "name": "stdout",
          "text": [
            " * sqlite:///banco.db\n",
            "1 rows affected.\n"
          ]
        },
        {
          "output_type": "execute_result",
          "data": {
            "text/plain": [
              "[]"
            ]
          },
          "metadata": {},
          "execution_count": 76
        }
      ]
    },
    {
      "cell_type": "code",
      "source": [
        "%sql select * from clientes;"
      ],
      "metadata": {
        "colab": {
          "base_uri": "https://localhost:8080/",
          "height": 161
        },
        "id": "cwzunKcaS3R9",
        "outputId": "cc777f0d-a52b-4f3d-ae04-86642a245f03"
      },
      "execution_count": 77,
      "outputs": [
        {
          "output_type": "stream",
          "name": "stdout",
          "text": [
            " * sqlite:///banco.db\n",
            "Done.\n"
          ]
        },
        {
          "output_type": "execute_result",
          "data": {
            "text/plain": [
              "[(1, 'Fabiana Oliveira', 46, 3000.0),\n",
              " (2, 'Isis Bittencourt', 17, 1500.0),\n",
              " (3, 'Arthur Diniz', 29, 412.87),\n",
              " (4, 'Clara Silveira', 63, 856.11)]"
            ],
            "text/html": [
              "<table>\n",
              "    <thead>\n",
              "        <tr>\n",
              "            <th>id</th>\n",
              "            <th>nome</th>\n",
              "            <th>idade</th>\n",
              "            <th>saldo</th>\n",
              "        </tr>\n",
              "    </thead>\n",
              "    <tbody>\n",
              "        <tr>\n",
              "            <td>1</td>\n",
              "            <td>Fabiana Oliveira</td>\n",
              "            <td>46</td>\n",
              "            <td>3000.0</td>\n",
              "        </tr>\n",
              "        <tr>\n",
              "            <td>2</td>\n",
              "            <td>Isis Bittencourt</td>\n",
              "            <td>17</td>\n",
              "            <td>1500.0</td>\n",
              "        </tr>\n",
              "        <tr>\n",
              "            <td>3</td>\n",
              "            <td>Arthur Diniz</td>\n",
              "            <td>29</td>\n",
              "            <td>412.87</td>\n",
              "        </tr>\n",
              "        <tr>\n",
              "            <td>4</td>\n",
              "            <td>Clara Silveira</td>\n",
              "            <td>63</td>\n",
              "            <td>856.11</td>\n",
              "        </tr>\n",
              "    </tbody>\n",
              "</table>"
            ]
          },
          "metadata": {},
          "execution_count": 77
        }
      ]
    },
    {
      "cell_type": "code",
      "source": [
        "%sql select * from alunos;"
      ],
      "metadata": {
        "colab": {
          "base_uri": "https://localhost:8080/",
          "height": 161
        },
        "id": "fql_2g8pS_04",
        "outputId": "79d41abe-97ef-46e4-85cc-d4b7bc7723f4"
      },
      "execution_count": 78,
      "outputs": [
        {
          "output_type": "stream",
          "name": "stdout",
          "text": [
            " * sqlite:///banco.db\n",
            "Done.\n"
          ]
        },
        {
          "output_type": "execute_result",
          "data": {
            "text/plain": [
              "[(1, 'Alan da Silva', 21, 'Medicina'),\n",
              " (3, 'Eduardo Pio', 29, 'Direito'),\n",
              " (4, 'Mariana Andrade', 42, 'Engenharia Civil'),\n",
              " (1, 'Guilherme Nogueira', 26, 'Marketing')]"
            ],
            "text/html": [
              "<table>\n",
              "    <thead>\n",
              "        <tr>\n",
              "            <th>id</th>\n",
              "            <th>nome</th>\n",
              "            <th>idade</th>\n",
              "            <th>curso</th>\n",
              "        </tr>\n",
              "    </thead>\n",
              "    <tbody>\n",
              "        <tr>\n",
              "            <td>1</td>\n",
              "            <td>Alan da Silva</td>\n",
              "            <td>21</td>\n",
              "            <td>Medicina</td>\n",
              "        </tr>\n",
              "        <tr>\n",
              "            <td>3</td>\n",
              "            <td>Eduardo Pio</td>\n",
              "            <td>29</td>\n",
              "            <td>Direito</td>\n",
              "        </tr>\n",
              "        <tr>\n",
              "            <td>4</td>\n",
              "            <td>Mariana Andrade</td>\n",
              "            <td>42</td>\n",
              "            <td>Engenharia Civil</td>\n",
              "        </tr>\n",
              "        <tr>\n",
              "            <td>1</td>\n",
              "            <td>Guilherme Nogueira</td>\n",
              "            <td>26</td>\n",
              "            <td>Marketing</td>\n",
              "        </tr>\n",
              "    </tbody>\n",
              "</table>"
            ]
          },
          "metadata": {},
          "execution_count": 78
        }
      ]
    },
    {
      "cell_type": "markdown",
      "source": [
        "8. Junção de Tabelas Crie uma segunda tabela chamada \"compras\" com os campos: id (chave primária), cliente_id (chave estrangeira referenciando o id da tabela \"clientes\"), produto (texto) e valor (real). Insira algumas compras associadas a clientes existentes na tabela \"clientes\". Escreva uma consulta para exibir o nome do cliente, o produto e o valor de cada compra."
      ],
      "metadata": {
        "id": "SXqKOHVtTMoM"
      }
    },
    {
      "cell_type": "code",
      "source": [
        "%%sql create table compras(id INTEGER PRIMARY KEY, cliente_id INTEGER, produto VARCHAR, valor REAL, foreign key (cliente_id) references clientes(id));"
      ],
      "metadata": {
        "colab": {
          "base_uri": "https://localhost:8080/"
        },
        "id": "KUqqHHhSTOKH",
        "outputId": "b18ebef9-3cb8-46c3-eea4-fb04cfed9200"
      },
      "execution_count": 79,
      "outputs": [
        {
          "output_type": "stream",
          "name": "stdout",
          "text": [
            " * sqlite:///banco.db\n",
            "Done.\n"
          ]
        },
        {
          "output_type": "execute_result",
          "data": {
            "text/plain": [
              "[]"
            ]
          },
          "metadata": {},
          "execution_count": 79
        }
      ]
    },
    {
      "cell_type": "code",
      "source": [
        "%sql select * from compras;"
      ],
      "metadata": {
        "colab": {
          "base_uri": "https://localhost:8080/",
          "height": 75
        },
        "id": "Ju6Ap3fXVJ60",
        "outputId": "1d76ba4e-4cc3-44f2-e319-5ad90809fba3"
      },
      "execution_count": 80,
      "outputs": [
        {
          "output_type": "stream",
          "name": "stdout",
          "text": [
            " * sqlite:///banco.db\n",
            "Done.\n"
          ]
        },
        {
          "output_type": "execute_result",
          "data": {
            "text/plain": [
              "[]"
            ],
            "text/html": [
              "<table>\n",
              "    <thead>\n",
              "        <tr>\n",
              "            <th>id</th>\n",
              "            <th>cliente_id</th>\n",
              "            <th>produto</th>\n",
              "            <th>valor</th>\n",
              "        </tr>\n",
              "    </thead>\n",
              "    <tbody>\n",
              "    </tbody>\n",
              "</table>"
            ]
          },
          "metadata": {},
          "execution_count": 80
        }
      ]
    },
    {
      "cell_type": "code",
      "source": [
        "%%sql\n",
        "\n",
        "insert into compras values(1, 1, 'Geladeira', 5500);\n",
        "insert into compras values(2, 2, 'Computador', 6200);\n",
        "insert into compras values(3, 3, 'Televisão', 3650);\n",
        "insert into compras values(4, 4, 'Maquina de Lavar', 1890);\n",
        "insert into compras values(5, 5, 'Forno Eletrico', 5642);\n"
      ],
      "metadata": {
        "colab": {
          "base_uri": "https://localhost:8080/"
        },
        "id": "uNnzImSUVcwH",
        "outputId": "52ea0c6d-5e7d-4a6d-cc71-c2d7d70af7fb"
      },
      "execution_count": 81,
      "outputs": [
        {
          "output_type": "stream",
          "name": "stdout",
          "text": [
            " * sqlite:///banco.db\n",
            "1 rows affected.\n",
            "1 rows affected.\n",
            "1 rows affected.\n",
            "1 rows affected.\n",
            "1 rows affected.\n"
          ]
        },
        {
          "output_type": "execute_result",
          "data": {
            "text/plain": [
              "[]"
            ]
          },
          "metadata": {},
          "execution_count": 81
        }
      ]
    },
    {
      "cell_type": "code",
      "source": [
        "%sql select * from compras;\n"
      ],
      "metadata": {
        "colab": {
          "base_uri": "https://localhost:8080/",
          "height": 182
        },
        "id": "M5YQr40JWWUY",
        "outputId": "79dfe612-83dc-43c0-e4bf-4c0f377e4133"
      },
      "execution_count": 82,
      "outputs": [
        {
          "output_type": "stream",
          "name": "stdout",
          "text": [
            " * sqlite:///banco.db\n",
            "Done.\n"
          ]
        },
        {
          "output_type": "execute_result",
          "data": {
            "text/plain": [
              "[(1, 1, 'Geladeira', 5500.0),\n",
              " (2, 2, 'Computador', 6200.0),\n",
              " (3, 3, 'Televisão', 3650.0),\n",
              " (4, 4, 'Maquina de Lavar', 1890.0),\n",
              " (5, 5, 'Forno Eletrico', 5642.0)]"
            ],
            "text/html": [
              "<table>\n",
              "    <thead>\n",
              "        <tr>\n",
              "            <th>id</th>\n",
              "            <th>cliente_id</th>\n",
              "            <th>produto</th>\n",
              "            <th>valor</th>\n",
              "        </tr>\n",
              "    </thead>\n",
              "    <tbody>\n",
              "        <tr>\n",
              "            <td>1</td>\n",
              "            <td>1</td>\n",
              "            <td>Geladeira</td>\n",
              "            <td>5500.0</td>\n",
              "        </tr>\n",
              "        <tr>\n",
              "            <td>2</td>\n",
              "            <td>2</td>\n",
              "            <td>Computador</td>\n",
              "            <td>6200.0</td>\n",
              "        </tr>\n",
              "        <tr>\n",
              "            <td>3</td>\n",
              "            <td>3</td>\n",
              "            <td>Televisão</td>\n",
              "            <td>3650.0</td>\n",
              "        </tr>\n",
              "        <tr>\n",
              "            <td>4</td>\n",
              "            <td>4</td>\n",
              "            <td>Maquina de Lavar</td>\n",
              "            <td>1890.0</td>\n",
              "        </tr>\n",
              "        <tr>\n",
              "            <td>5</td>\n",
              "            <td>5</td>\n",
              "            <td>Forno Eletrico</td>\n",
              "            <td>5642.0</td>\n",
              "        </tr>\n",
              "    </tbody>\n",
              "</table>"
            ]
          },
          "metadata": {},
          "execution_count": 82
        }
      ]
    },
    {
      "cell_type": "code",
      "source": [
        "%%sql select clientes.nome, compras.produto, compras.valor from compras join clientes on compras.cliente_id = clientes.id;"
      ],
      "metadata": {
        "colab": {
          "base_uri": "https://localhost:8080/",
          "height": 161
        },
        "id": "1sjYZdmRWcfs",
        "outputId": "e9fe6b4c-eb11-4c30-8fb5-bc216d85a3eb"
      },
      "execution_count": 83,
      "outputs": [
        {
          "output_type": "stream",
          "name": "stdout",
          "text": [
            " * sqlite:///banco.db\n",
            "Done.\n"
          ]
        },
        {
          "output_type": "execute_result",
          "data": {
            "text/plain": [
              "[('Fabiana Oliveira', 'Geladeira', 5500.0),\n",
              " ('Isis Bittencourt', 'Computador', 6200.0),\n",
              " ('Arthur Diniz', 'Televisão', 3650.0),\n",
              " ('Clara Silveira', 'Maquina de Lavar', 1890.0)]"
            ],
            "text/html": [
              "<table>\n",
              "    <thead>\n",
              "        <tr>\n",
              "            <th>nome</th>\n",
              "            <th>produto</th>\n",
              "            <th>valor</th>\n",
              "        </tr>\n",
              "    </thead>\n",
              "    <tbody>\n",
              "        <tr>\n",
              "            <td>Fabiana Oliveira</td>\n",
              "            <td>Geladeira</td>\n",
              "            <td>5500.0</td>\n",
              "        </tr>\n",
              "        <tr>\n",
              "            <td>Isis Bittencourt</td>\n",
              "            <td>Computador</td>\n",
              "            <td>6200.0</td>\n",
              "        </tr>\n",
              "        <tr>\n",
              "            <td>Arthur Diniz</td>\n",
              "            <td>Televisão</td>\n",
              "            <td>3650.0</td>\n",
              "        </tr>\n",
              "        <tr>\n",
              "            <td>Clara Silveira</td>\n",
              "            <td>Maquina de Lavar</td>\n",
              "            <td>1890.0</td>\n",
              "        </tr>\n",
              "    </tbody>\n",
              "</table>"
            ]
          },
          "metadata": {},
          "execution_count": 83
        }
      ]
    }
  ]
}